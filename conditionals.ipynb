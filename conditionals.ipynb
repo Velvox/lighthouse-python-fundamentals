{
 "cells": [
  {
   "cell_type": "code",
   "execution_count": 1,
   "id": "47189ef0-51a1-4560-acdf-2a75bfcc0709",
   "metadata": {},
   "outputs": [
    {
     "name": "stdout",
     "output_type": "stream",
     "text": [
      "yes\n"
     ]
    }
   ],
   "source": [
    "x = 0\n",
    "y = 5\n",
    "\n",
    "if x < y:\n",
    "    print('yes')"
   ]
  },
  {
   "cell_type": "code",
   "execution_count": 6,
   "id": "ab8281d9-2ee1-42db-949f-f2b3064347ec",
   "metadata": {},
   "outputs": [
    {
     "name": "stdout",
     "output_type": "stream",
     "text": [
      "True\n"
     ]
    }
   ],
   "source": [
    "x = 20\n",
    "\n",
    "if x <50:\n",
    "    print(True)\n",
    "else:\n",
    "    print(False)"
   ]
  },
  {
   "cell_type": "code",
   "execution_count": 15,
   "id": "f441a9d5-1a1b-4b12-b12a-584208dcbc85",
   "metadata": {},
   "outputs": [
    {
     "name": "stdout",
     "output_type": "stream",
     "text": [
      "5\n"
     ]
    }
   ],
   "source": [
    "x = 5\n",
    "\n",
    "if x < 5:\n",
    "    print(True)\n",
    "elif x == 5:\n",
    "    print(5)\n",
    "elif x == 6:\n",
    "    print(6)\n",
    "else:\n",
    "    print(False)"
   ]
  },
  {
   "cell_type": "code",
   "execution_count": 18,
   "id": "a68b6c7a-c9ed-48ac-92dd-388888f801c2",
   "metadata": {},
   "outputs": [
    {
     "name": "stdout",
     "output_type": "stream",
     "text": [
      "Hello Christine!\n"
     ]
    }
   ],
   "source": [
    "names = {\n",
    "    'Christine': 'Hello Christine!',\n",
    "    'Emma': 'Hello Emma!'\n",
    "}\n",
    "\n",
    "print(names.get('Christine'))"
   ]
  },
  {
   "cell_type": "code",
   "execution_count": 22,
   "id": "920bb6bb-31e4-42d6-a379-75de25777552",
   "metadata": {},
   "outputs": [
    {
     "ename": "NameError",
     "evalue": "name 'var' is not defined",
     "output_type": "error",
     "traceback": [
      "\u001b[0;31m---------------------------------------------------------------------------\u001b[0m",
      "\u001b[0;31mNameError\u001b[0m                                 Traceback (most recent call last)",
      "\u001b[0;32m/var/folders/q4/hl7yv5yn6g10s9npc_7kk08h0000gn/T/ipykernel_3836/3432094990.py\u001b[0m in \u001b[0;36m<module>\u001b[0;34m\u001b[0m\n\u001b[0;32m----> 1\u001b[0;31m \u001b[0mvar\u001b[0m\u001b[0;34m\u001b[0m\u001b[0;34m\u001b[0m\u001b[0m\n\u001b[0m\u001b[1;32m      2\u001b[0m \u001b[0;34m\u001b[0m\u001b[0m\n\u001b[1;32m      3\u001b[0m \u001b[0;32mif\u001b[0m \u001b[0;34m'a'\u001b[0m \u001b[0;32min\u001b[0m \u001b[0mbar\u001b[0m\u001b[0;34m:\u001b[0m\u001b[0;34m\u001b[0m\u001b[0;34m\u001b[0m\u001b[0m\n\u001b[1;32m      4\u001b[0m     \u001b[0mprint\u001b[0m\u001b[0;34m(\u001b[0m\u001b[0;34m'foo'\u001b[0m\u001b[0;34m)\u001b[0m\u001b[0;34m\u001b[0m\u001b[0;34m\u001b[0m\u001b[0m\n\u001b[1;32m      5\u001b[0m \u001b[0;32melif\u001b[0m \u001b[0;36m1\u001b[0m\u001b[0;34m/\u001b[0m\u001b[0;36m0\u001b[0m\u001b[0;34m:\u001b[0m\u001b[0;34m\u001b[0m\u001b[0;34m\u001b[0m\u001b[0m\n",
      "\u001b[0;31mNameError\u001b[0m: name 'var' is not defined"
     ]
    }
   ],
   "source": [
    "var\n",
    "\n",
    "if 'a' in bar:\n",
    "    print('foo')\n",
    "elif 1/0:\n",
    "    print('this won\\'t happen')\n",
    "elif var:\n",
    "    print(\"this won't either\")"
   ]
  },
  {
   "cell_type": "code",
   "execution_count": 23,
   "id": "b4290433-702d-4c09-ae61-0566f9210fcf",
   "metadata": {},
   "outputs": [
    {
     "name": "stdout",
     "output_type": "stream",
     "text": [
      "1\n",
      "2\n"
     ]
    }
   ],
   "source": [
    "if 'f' in 'foo': print('1'); print ('2')"
   ]
  },
  {
   "cell_type": "code",
   "execution_count": 25,
   "id": "1f9055d4-13af-4129-a1fc-db4bfbd1a16c",
   "metadata": {},
   "outputs": [],
   "source": [
    "if 'z' in 'foo': print('1'); print ('2')"
   ]
  },
  {
   "cell_type": "code",
   "execution_count": 27,
   "id": "7c3a7574-b863-407d-b607-d8b59d52c7b1",
   "metadata": {},
   "outputs": [
    {
     "name": "stdout",
     "output_type": "stream",
     "text": [
      "qux\n",
      "quux\n"
     ]
    }
   ],
   "source": [
    "x = 2\n",
    "if x == 1: print('foo'); print('bar'); print('baz')\n",
    "elif x == 2: print('qux'); print('quux')"
   ]
  },
  {
   "cell_type": "code",
   "execution_count": null,
   "id": "5c2ad9f3-672c-4734-8726-29f1ad533b68",
   "metadata": {},
   "outputs": [],
   "source": []
  }
 ],
 "metadata": {
  "kernelspec": {
   "display_name": "Python 3 (ipykernel)",
   "language": "python",
   "name": "python3"
  },
  "language_info": {
   "codemirror_mode": {
    "name": "ipython",
    "version": 3
   },
   "file_extension": ".py",
   "mimetype": "text/x-python",
   "name": "python",
   "nbconvert_exporter": "python",
   "pygments_lexer": "ipython3",
   "version": "3.9.7"
  }
 },
 "nbformat": 4,
 "nbformat_minor": 5
}
