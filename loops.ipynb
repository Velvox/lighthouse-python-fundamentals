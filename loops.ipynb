{
 "cells": [
  {
   "cell_type": "code",
   "execution_count": 1,
   "id": "373479dc-47d3-4480-b0e7-a334eb89cb5e",
   "metadata": {},
   "outputs": [
    {
     "name": "stdout",
     "output_type": "stream",
     "text": [
      "4\n",
      "3\n",
      "2\n",
      "1\n",
      "0\n"
     ]
    }
   ],
   "source": [
    "n = 5\n",
    "while n > 0:\n",
    "    n -= 1\n",
    "    print(n)"
   ]
  },
  {
   "cell_type": "code",
   "execution_count": 55,
   "id": "22df6b1b-a829-41f8-802a-5124ceb1f1ec",
   "metadata": {},
   "outputs": [],
   "source": [
    "n = 0\n",
    "while n > 0:\n",
    "    n -= 1\n",
    "    print(n)"
   ]
  },
  {
   "cell_type": "code",
   "execution_count": 3,
   "id": "c266f5f5-6133-4873-b270-7633fb5ce4a8",
   "metadata": {},
   "outputs": [
    {
     "name": "stdout",
     "output_type": "stream",
     "text": [
      "baz\n",
      "bar\n",
      "foo\n"
     ]
    }
   ],
   "source": [
    "a = ['foo', 'bar', 'baz']\n",
    "while a:\n",
    "    print(a.pop(-1))"
   ]
  },
  {
   "cell_type": "code",
   "execution_count": null,
   "id": "8410f1cf-258c-4342-8cdf-3d17e0a932d9",
   "metadata": {},
   "outputs": [],
   "source": []
  },
  {
   "cell_type": "code",
   "execution_count": 2,
   "id": "81ba1633-ce13-4bc7-8136-22245973351f",
   "metadata": {},
   "outputs": [
    {
     "name": "stdout",
     "output_type": "stream",
     "text": [
      "4\n",
      "3\n",
      "Loop ended.\n"
     ]
    }
   ],
   "source": [
    "x = 5\n",
    "while x > 0:\n",
    "    x -= 1\n",
    "    if x == 2:\n",
    "        break\n",
    "    print(x)\n",
    "print ('Loop ended.')"
   ]
  },
  {
   "cell_type": "code",
   "execution_count": 1,
   "id": "2755adaa-6d1e-45fb-8c18-2a12efceffa5",
   "metadata": {},
   "outputs": [
    {
     "name": "stdout",
     "output_type": "stream",
     "text": [
      "4\n",
      "3\n",
      "1\n",
      "0\n",
      "Loop ended.\n"
     ]
    }
   ],
   "source": [
    "n = 5\n",
    "while n > 0:\n",
    "    n -= 1\n",
    "    if n == 2:\n",
    "        continue\n",
    "    print(n)\n",
    "print ('Loop ended.')"
   ]
  },
  {
   "cell_type": "code",
   "execution_count": 4,
   "id": "c0f83c8c-e8ce-4a61-a911-60cdf18d08ca",
   "metadata": {},
   "outputs": [
    {
     "name": "stdout",
     "output_type": "stream",
     "text": [
      "corge not found in list.\n"
     ]
    }
   ],
   "source": [
    "a = ['foo', 'bar', 'baz', 'qux']\n",
    "s = 'corge'\n",
    "\n",
    "i = 0\n",
    "while i < len(a):\n",
    "    if a[i] == s:\n",
    "        # processing for item found\n",
    "        break\n",
    "    i += 1\n",
    "else:\n",
    "    # processing for item not found\n",
    "    print(s, 'not found in list.')"
   ]
  },
  {
   "cell_type": "code",
   "execution_count": 5,
   "id": "ebec8d9e-7fff-44bb-adc4-0f186c4a059c",
   "metadata": {},
   "outputs": [
    {
     "name": "stdout",
     "output_type": "stream",
     "text": [
      "baz\n",
      "bar\n",
      "foo\n"
     ]
    }
   ],
   "source": [
    "a = ['foo', 'bar', 'baz']\n",
    "while True:\n",
    "    if not a:\n",
    "        break\n",
    "    print(a.pop(-1))"
   ]
  },
  {
   "cell_type": "code",
   "execution_count": 12,
   "id": "82305ff2-0e8b-48c2-8681-016f07ee5896",
   "metadata": {},
   "outputs": [
    {
     "name": "stdout",
     "output_type": "stream",
     "text": [
      "father\n"
     ]
    }
   ],
   "source": [
    "age = 18\n",
    "gender = 'M'\n",
    "if age < 18:\n",
    "    if gender == 'M':\n",
    "        print('son')\n",
    "    else:\n",
    "        print('daughter')\n",
    "elif age >= 18 and age < 65:\n",
    "    if gender == 'M':\n",
    "        print ('father')\n",
    "    else:\n",
    "        print('mother')\n",
    "else:\n",
    "    print('grandfather')"
   ]
  },
  {
   "cell_type": "code",
   "execution_count": 13,
   "id": "6040083b-a340-4dc0-bd0c-79620b02647d",
   "metadata": {},
   "outputs": [
    {
     "name": "stdout",
     "output_type": "stream",
     "text": [
      "4\n",
      "3\n",
      "2\n",
      "1\n",
      "0\n"
     ]
    }
   ],
   "source": [
    "n = 5\n",
    "while n > 0: n -= 1; print(n)"
   ]
  },
  {
   "cell_type": "code",
   "execution_count": 15,
   "id": "f07c2cd0-827e-4faf-ba6d-7363276f446d",
   "metadata": {},
   "outputs": [
    {
     "name": "stdout",
     "output_type": "stream",
     "text": [
      "foo\n"
     ]
    }
   ],
   "source": [
    "if True: print('foo')"
   ]
  },
  {
   "cell_type": "code",
   "execution_count": 10,
   "id": "787f410c-da05-443f-9144-88ff02e418fb",
   "metadata": {},
   "outputs": [
    {
     "name": "stdin",
     "output_type": "stream",
     "text": [
      " 5\n"
     ]
    },
    {
     "name": "stdout",
     "output_type": "stream",
     "text": [
      "6\n",
      "7\n",
      "8\n"
     ]
    }
   ],
   "source": [
    "num = int(input())\n",
    "n = 0\n",
    "while n >= 0:\n",
    "    num += 1\n",
    "    n += 1\n",
    "    if n == 3:\n",
    "        break\n",
    "    print(num)\n",
    "print(num)"
   ]
  },
  {
   "cell_type": "code",
   "execution_count": 12,
   "id": "133c26f8-c88b-4db1-b951-83c95556fd2a",
   "metadata": {},
   "outputs": [
    {
     "name": "stdout",
     "output_type": "stream",
     "text": [
      "1\n",
      "2\n",
      "3\n"
     ]
    }
   ],
   "source": [
    "a = [1, 2, 3]\n",
    "for i in a:\n",
    "    print(i)"
   ]
  },
  {
   "cell_type": "code",
   "execution_count": 13,
   "id": "487adc6d-162c-418d-8f46-6dd77ff6cfc3",
   "metadata": {},
   "outputs": [
    {
     "data": {
      "text/plain": [
       "<str_iterator at 0x7fc0a3d6aa60>"
      ]
     },
     "execution_count": 13,
     "metadata": {},
     "output_type": "execute_result"
    }
   ],
   "source": [
    "iter('christine')"
   ]
  },
  {
   "cell_type": "code",
   "execution_count": 14,
   "id": "5f35ae81-ef59-4774-aa1b-99c441ef22ad",
   "metadata": {},
   "outputs": [
    {
     "ename": "TypeError",
     "evalue": "'int' object is not iterable",
     "output_type": "error",
     "traceback": [
      "\u001b[0;31m---------------------------------------------------------------------------\u001b[0m",
      "\u001b[0;31mTypeError\u001b[0m                                 Traceback (most recent call last)",
      "\u001b[0;32m/var/folders/q4/hl7yv5yn6g10s9npc_7kk08h0000gn/T/ipykernel_4739/682007251.py\u001b[0m in \u001b[0;36m<module>\u001b[0;34m\u001b[0m\n\u001b[0;32m----> 1\u001b[0;31m \u001b[0miter\u001b[0m\u001b[0;34m(\u001b[0m\u001b[0;36m42\u001b[0m\u001b[0;34m)\u001b[0m\u001b[0;34m\u001b[0m\u001b[0;34m\u001b[0m\u001b[0m\n\u001b[0m",
      "\u001b[0;31mTypeError\u001b[0m: 'int' object is not iterable"
     ]
    }
   ],
   "source": [
    "iter(42)"
   ]
  },
  {
   "cell_type": "code",
   "execution_count": 15,
   "id": "3b0a9ce2-b461-4e25-999b-82b0960872e2",
   "metadata": {},
   "outputs": [
    {
     "data": {
      "text/plain": [
       "<list_iterator at 0x7fc0a3d6a820>"
      ]
     },
     "execution_count": 15,
     "metadata": {},
     "output_type": "execute_result"
    }
   ],
   "source": [
    "itr = iter(a)\n",
    "itr"
   ]
  },
  {
   "cell_type": "code",
   "execution_count": 16,
   "id": "875bcf77-5064-40ac-be66-25cbb9762a21",
   "metadata": {},
   "outputs": [
    {
     "data": {
      "text/plain": [
       "1"
      ]
     },
     "execution_count": 16,
     "metadata": {},
     "output_type": "execute_result"
    }
   ],
   "source": [
    "next(itr)"
   ]
  },
  {
   "cell_type": "code",
   "execution_count": 17,
   "id": "b6cd1c1f-2324-490f-87ae-3b53ba486f5d",
   "metadata": {},
   "outputs": [
    {
     "data": {
      "text/plain": [
       "2"
      ]
     },
     "execution_count": 17,
     "metadata": {},
     "output_type": "execute_result"
    }
   ],
   "source": [
    "next(itr)"
   ]
  },
  {
   "cell_type": "code",
   "execution_count": 18,
   "id": "2e15eb44-9f8c-4e9b-a2cc-2387a2a1e46a",
   "metadata": {},
   "outputs": [
    {
     "data": {
      "text/plain": [
       "3"
      ]
     },
     "execution_count": 18,
     "metadata": {},
     "output_type": "execute_result"
    }
   ],
   "source": [
    "next(itr)"
   ]
  },
  {
   "cell_type": "code",
   "execution_count": 19,
   "id": "5c5b3334-d72d-453d-b3f2-ca8604f005b0",
   "metadata": {},
   "outputs": [
    {
     "ename": "StopIteration",
     "evalue": "",
     "output_type": "error",
     "traceback": [
      "\u001b[0;31m---------------------------------------------------------------------------\u001b[0m",
      "\u001b[0;31mStopIteration\u001b[0m                             Traceback (most recent call last)",
      "\u001b[0;32m/var/folders/q4/hl7yv5yn6g10s9npc_7kk08h0000gn/T/ipykernel_4739/2891714693.py\u001b[0m in \u001b[0;36m<module>\u001b[0;34m\u001b[0m\n\u001b[0;32m----> 1\u001b[0;31m \u001b[0mnext\u001b[0m\u001b[0;34m(\u001b[0m\u001b[0mitr\u001b[0m\u001b[0;34m)\u001b[0m\u001b[0;34m\u001b[0m\u001b[0;34m\u001b[0m\u001b[0m\n\u001b[0m",
      "\u001b[0;31mStopIteration\u001b[0m: "
     ]
    }
   ],
   "source": [
    "next(itr)"
   ]
  },
  {
   "cell_type": "code",
   "execution_count": 21,
   "id": "2a15a400-1407-4f0d-85d9-7d750921bd53",
   "metadata": {},
   "outputs": [
    {
     "data": {
      "text/plain": [
       "['foo', 'bar', 'baz']"
      ]
     },
     "execution_count": 21,
     "metadata": {},
     "output_type": "execute_result"
    }
   ],
   "source": [
    "b = ['foo', 'bar', 'baz']\n",
    "itr = iter(b)\n",
    "list(itr)"
   ]
  },
  {
   "cell_type": "code",
   "execution_count": 22,
   "id": "1f7389d1-a5f0-47b4-8dcb-fadce8a56ec2",
   "metadata": {},
   "outputs": [],
   "source": [
    "# iteration = the process of looping through the objects or items in a collection\n",
    "# iterable = an object that can be iterated over\n",
    "# iterator = the object that produces successive items or values from its associated iterable\n",
    "# iter() = the built in function used to obtain an iterator from an iterable\n"
   ]
  },
  {
   "cell_type": "code",
   "execution_count": 23,
   "id": "87bcfe84-1834-4b5d-be04-fbff815670c4",
   "metadata": {},
   "outputs": [
    {
     "name": "stdout",
     "output_type": "stream",
     "text": [
      "emma\n",
      "christine\n",
      "maya\n"
     ]
    }
   ],
   "source": [
    "# a standard for loop\n",
    "a = ['emma', 'christine', 'maya']\n",
    "for i in a:\n",
    "    print(i)"
   ]
  },
  {
   "cell_type": "code",
   "execution_count": 28,
   "id": "f23c2050-149c-4967-a048-b0032a88f018",
   "metadata": {},
   "outputs": [
    {
     "name": "stdout",
     "output_type": "stream",
     "text": [
      "emma\n",
      "christine\n",
      "maya\n"
     ]
    }
   ],
   "source": [
    "#this gets the keys in a dictionary\n",
    "d = {'emma': 1, 'christine': 2, 'maya': 3}\n",
    "for k in d:\n",
    "    print(k)"
   ]
  },
  {
   "cell_type": "code",
   "execution_count": 30,
   "id": "b4b810e9-e3d7-4c70-8af4-22308dafa332",
   "metadata": {},
   "outputs": [
    {
     "name": "stdout",
     "output_type": "stream",
     "text": [
      "1\n",
      "2\n",
      "3\n"
     ]
    }
   ],
   "source": [
    "#this gets the values\n",
    "d = {'emma': 1, 'christine': 2, 'maya': 3}\n",
    "for k in d:\n",
    "    print(d[k])"
   ]
  },
  {
   "cell_type": "code",
   "execution_count": 32,
   "id": "bdbbf726-9e50-427f-b0a8-4a1970e34622",
   "metadata": {},
   "outputs": [
    {
     "name": "stdout",
     "output_type": "stream",
     "text": [
      "1\n",
      "2\n",
      "3\n"
     ]
    }
   ],
   "source": [
    "# also this\n",
    "for v in d.values():\n",
    "    print(v)"
   ]
  },
  {
   "cell_type": "code",
   "execution_count": 34,
   "id": "06a6e670-bc9a-4d47-bd9a-2f545bd7af99",
   "metadata": {},
   "outputs": [
    {
     "name": "stdout",
     "output_type": "stream",
     "text": [
      "1 2\n",
      "1 2\n",
      "3 4\n",
      "5 6\n"
     ]
    }
   ],
   "source": [
    "# for both\n",
    "i, j = (1, 2)\n",
    "print (i,j)\n",
    "\n",
    "for i, j in [(1, 2), (3, 4), (5, 6)]:\n",
    "    print(i, j)"
   ]
  },
  {
   "cell_type": "code",
   "execution_count": 35,
   "id": "327da899-4da0-44d1-a25e-e5245823d6d4",
   "metadata": {},
   "outputs": [
    {
     "name": "stdout",
     "output_type": "stream",
     "text": [
      "k= emma v= 1\n",
      "k= christine v= 2\n",
      "k= maya v= 3\n"
     ]
    }
   ],
   "source": [
    "# the proper way\n",
    "d = {'emma': 1, 'christine': 2, 'maya': 3}\n",
    "for k, v in d.items():\n",
    "    print('k=', k, 'v=', v)"
   ]
  },
  {
   "cell_type": "code",
   "execution_count": 41,
   "id": "5805b3a6-3d6d-4922-9296-8c18cce82f7e",
   "metadata": {},
   "outputs": [
    {
     "name": "stdout",
     "output_type": "stream",
     "text": [
      "range(0, 5)\n"
     ]
    },
    {
     "data": {
      "text/plain": [
       "range"
      ]
     },
     "execution_count": 41,
     "metadata": {},
     "output_type": "execute_result"
    }
   ],
   "source": [
    "# ranges are used to create an iterable range of numbers used in a for loop.\n",
    "x = range(5)\n",
    "x\n",
    "print(x)\n",
    "type(x)"
   ]
  },
  {
   "cell_type": "code",
   "execution_count": 39,
   "id": "5fed6ed5-e935-4929-af92-03cbeb53e981",
   "metadata": {},
   "outputs": [
    {
     "name": "stdout",
     "output_type": "stream",
     "text": [
      "0\n",
      "1\n",
      "2\n",
      "3\n",
      "4\n"
     ]
    }
   ],
   "source": [
    "for n in x:\n",
    "    print(n)"
   ]
  },
  {
   "cell_type": "code",
   "execution_count": 40,
   "id": "fa27ec9d-b295-44d1-8fbe-7de79310ee43",
   "metadata": {},
   "outputs": [
    {
     "data": {
      "text/plain": [
       "[0, 1, 2, 3, 4]"
      ]
     },
     "execution_count": 40,
     "metadata": {},
     "output_type": "execute_result"
    }
   ],
   "source": [
    "list(x)"
   ]
  },
  {
   "cell_type": "code",
   "execution_count": 43,
   "id": "3f1d0daa-c7af-4c69-b9b4-909f61a02fdf",
   "metadata": {},
   "outputs": [
    {
     "data": {
      "text/plain": [
       "[10, 15, 20, 25, 30, 35, 40, 45, 50, 55, 60, 65, 70, 75, 80, 85, 90, 95]"
      ]
     },
     "execution_count": 43,
     "metadata": {},
     "output_type": "execute_result"
    }
   ],
   "source": [
    "# range(<begin>, <end>, <stride>)\n",
    "list(range(10, 100, 5))"
   ]
  },
  {
   "cell_type": "code",
   "execution_count": 45,
   "id": "b17ed3fd-ae2d-4133-b4dd-629e03fb7cb9",
   "metadata": {},
   "outputs": [
    {
     "data": {
      "text/plain": [
       "[100, 95, 90, 85, 80, 75, 70, 65, 60, 55]"
      ]
     },
     "execution_count": 45,
     "metadata": {},
     "output_type": "execute_result"
    }
   ],
   "source": [
    "list(range(100, 50, -5))"
   ]
  },
  {
   "cell_type": "code",
   "execution_count": 53,
   "id": "2ed4fccf-1990-4b39-80fc-92470dded20d",
   "metadata": {},
   "outputs": [
    {
     "name": "stdout",
     "output_type": "stream",
     "text": [
      "maya\n",
      "maya\n",
      "emma\n"
     ]
    }
   ],
   "source": [
    "# breaks and continues can be used in for loops\n",
    "for i in ['maya', 'christine', 'emma']:\n",
    "    if 'c' in i:\n",
    "        break\n",
    "    print(i)\n",
    "    \n",
    "# breaks and continues can be used in for loops\n",
    "for i in ['maya', 'christine', 'emma']:\n",
    "    if 'c' in i:\n",
    "        continue\n",
    "    print(i)"
   ]
  },
  {
   "cell_type": "code",
   "execution_count": 54,
   "id": "25b8f298-d737-4f8d-8676-b1a103a7ec7f",
   "metadata": {},
   "outputs": [
    {
     "name": "stdout",
     "output_type": "stream",
     "text": [
      "maya\n",
      "heather\n",
      "christine\n",
      "done\n"
     ]
    }
   ],
   "source": [
    "for i in ['maya', 'heather', 'christine']:\n",
    "    print(i)\n",
    "else:\n",
    "    print('done')"
   ]
  },
  {
   "cell_type": "code",
   "execution_count": null,
   "id": "fbdd6b1f-cca1-4560-a3cf-acbb8d0dfb70",
   "metadata": {},
   "outputs": [],
   "source": []
  }
 ],
 "metadata": {
  "kernelspec": {
   "display_name": "Python 3 (ipykernel)",
   "language": "python",
   "name": "python3"
  },
  "language_info": {
   "codemirror_mode": {
    "name": "ipython",
    "version": 3
   },
   "file_extension": ".py",
   "mimetype": "text/x-python",
   "name": "python",
   "nbconvert_exporter": "python",
   "pygments_lexer": "ipython3",
   "version": "3.9.7"
  }
 },
 "nbformat": 4,
 "nbformat_minor": 5
}
