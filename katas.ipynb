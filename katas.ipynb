{
 "cells": [
  {
   "cell_type": "code",
   "execution_count": 19,
   "id": "a8a6420a-9b72-4ab6-a41a-659b03273ee4",
   "metadata": {},
   "outputs": [
    {
     "name": "stdout",
     "output_type": "stream",
     "text": [
      "11\n",
      "5\n",
      "126\n"
     ]
    }
   ],
   "source": [
    "def sumLargestNumbers(iterable):\n",
    "    if len(iterable) > 1:\n",
    "        sorted_iterable = iterable\n",
    "        sorted_iterable.sort()\n",
    "        sorted_iterable[-1]\n",
    "        return sorted_iterable[-1] + sorted_iterable[-2]\n",
    "    else:\n",
    "        return iterable\n",
    "\n",
    "\n",
    "print(sumLargestNumbers([1, 10]))\n",
    "print(sumLargestNumbers([1, 2, 3]))\n",
    "print(sumLargestNumbers([10, 4, 34, 6, 92, 2]))\n",
    "    \n",
    "    "
   ]
  },
  {
   "cell_type": "code",
   "execution_count": 29,
   "id": "6a771013-0e41-464a-8e90-b92efb6b14fb",
   "metadata": {},
   "outputs": [
    {
     "name": "stdout",
     "output_type": "stream",
     "text": [
      "6\n",
      "9\n",
      "144\n",
      "0\n"
     ]
    }
   ],
   "source": [
    "def conditionalSum(values, condition):\n",
    "    solution = 0\n",
    "    if condition == 'odd':\n",
    "        for i in range(len(values)):\n",
    "            if values[i] % 2 != 0:\n",
    "                solution += values[i]\n",
    "            else:\n",
    "                continue\n",
    "    elif condition == 'even':\n",
    "        for i in range(len(values)):\n",
    "            if values[i] % 2 == 0:\n",
    "                solution += values[i]\n",
    "            else:\n",
    "                continue\n",
    "    return solution\n",
    "                \n",
    "print(conditionalSum([1, 2, 3, 4, 5], \"even\"))\n",
    "print(conditionalSum([1, 2, 3, 4, 5], \"odd\"))\n",
    "print(conditionalSum([13, 88, 12, 44, 99], \"even\"))\n",
    "print(conditionalSum([], \"odd\"))"
   ]
  },
  {
   "cell_type": "code",
   "execution_count": 35,
   "id": "19c6df46-bb89-48f9-ab6f-662ea818840b",
   "metadata": {},
   "outputs": [
    {
     "name": "stdout",
     "output_type": "stream",
     "text": [
      "3\n",
      "5\n",
      "5\n"
     ]
    }
   ],
   "source": [
    "def numberOfVowels(data):\n",
    "    vowels = ['a','e','i','o','u']\n",
    "    solution = 0\n",
    "    for i in data:\n",
    "        if i in vowels:\n",
    "            solution += 1\n",
    "        else:\n",
    "            continue\n",
    "    return solution\n",
    "        \n",
    "\n",
    "print(numberOfVowels(\"orange\"))\n",
    "print(numberOfVowels(\"lighthouse labs\"))\n",
    "print(numberOfVowels(\"aeiou\"))"
   ]
  },
  {
   "cell_type": "code",
   "execution_count": 83,
   "id": "3c2a846f-2a93-4966-b18e-ea8c4533b67b",
   "metadata": {},
   "outputs": [
    {
     "name": "stdout",
     "output_type": "stream",
     "text": [
      "{'name': 'Jeremiah', 'course': 'Data'}\n",
      "{'name': 'Domascus', 'course': 'Web'}\n"
     ]
    }
   ],
   "source": [
    "def instructorWithLongestName(instructors):\n",
    "\n",
    "    return max(instructors, key=lambda d:len(d['name']))\n",
    "        \n",
    "print(instructorWithLongestName([\n",
    "  {\"name\": \"Samuel\", \"course\": \"iOS\"},\n",
    "  {\"name\": \"Jeremiah\", \"course\": \"Data\"},\n",
    "  {\"name\": \"Ophilia\", \"course\": \"Web\"},\n",
    "  {\"name\": \"Donald\", \"course\": \"Web\"}\n",
    "]))\n",
    "print(instructorWithLongestName([\n",
    "  {\"name\": \"Matthew\", \"course\": \"Data\"},\n",
    "  {\"name\": \"David\", \"course\": \"iOS\"},\n",
    "  {\"name\": \"Domascus\", \"course\": \"Web\"}\n",
    "]))"
   ]
  },
  {
   "cell_type": "code",
   "execution_count": 131,
   "id": "ba1b90c9-db5c-4ca2-8588-6ee3aa09763a",
   "metadata": {},
   "outputs": [
    {
     "name": "stdout",
     "output_type": "stream",
     "text": [
      "Lighthouse%20Labs\n",
      "Lighthouse%20Labs\n",
      "blue%20is%20greener%20than%20purple%20for%20sure\n"
     ]
    }
   ],
   "source": [
    "def urlEncode(text):\n",
    "    url = \"\"\n",
    "    #checking for spaces\n",
    "    strip_text = text.rstrip().lstrip()\n",
    "    for i in range(len(strip_text)):\n",
    "        if strip_text[i] == ' ':\n",
    "            url += '%20'\n",
    "        else:\n",
    "            url += strip_text[i]\n",
    "    return url\n",
    "        \n",
    "print(urlEncode(\"Lighthouse Labs\"))\n",
    "print(urlEncode(\" Lighthouse Labs  \"))\n",
    "print(urlEncode(\"blue is greener than purple for sure\"))"
   ]
  },
  {
   "cell_type": "code",
   "execution_count": 78,
   "id": "b668dec3-4685-44f1-bdc2-c803e4faad75",
   "metadata": {},
   "outputs": [
    {
     "name": "stdout",
     "output_type": "stream",
     "text": [
      "[4, 0]\n",
      "False\n",
      "[3, 5]\n"
     ]
    }
   ],
   "source": [
    "def whereCanIPark(spots, vehicle):\n",
    "    solution = []\n",
    "    y = 0\n",
    "    if vehicle == 'motorcycle':\n",
    "        lookingfor = ['M', 'S', 'R']\n",
    "    elif vehicle == 'small':\n",
    "        lookingfor = ['S', 'R']\n",
    "    else:\n",
    "        lookingfor = ['R']\n",
    "    \n",
    "    for v in range(len(lookingfor)):\n",
    "        for x in range(len(spots)):\n",
    "            if lookingfor[v] in spots[x]:\n",
    "                solution.append(spots[x].index(lookingfor[v]))\n",
    "                solution.append(y)\n",
    "                return solution\n",
    "            elif y == len(spots)-1:\n",
    "                return False\n",
    "            else:\n",
    "                y += 1\n",
    "                continuea\n",
    "\n",
    "print(whereCanIPark(\n",
    "  [\n",
    "    # COLUMNS ARE X\n",
    "    # 0    1    2    3    4    5\n",
    "    ['s', 's', 's', 'S', 'R', 'M'], # 0 ROWS ARE Y\n",
    "    ['s', 'M', 's', 'S', 'r', 'M'], # 1\n",
    "    ['s', 'M', 's', 'S', 'r', 'm'], # 2\n",
    "    ['S', 'r', 's', 'm', 'r', 'M'], # 3\n",
    "    ['S', 'r', 's', 'm', 'r', 'M'], # 4\n",
    "    ['S', 'r', 'S', 'M', 'M', 'S']  # 5\n",
    "  ],\n",
    "  'regular'\n",
    "))\n",
    "\n",
    "print(whereCanIPark(\n",
    "  [\n",
    "    ['M', 'M', 'M', 'M'],\n",
    "    ['M', 's', 'M', 'M'],\n",
    "    ['M', 'M', 'M', 'M'],\n",
    "    ['M', 'M', 'r', 'M']\n",
    "  ],\n",
    "  'small'\n",
    "))\n",
    "\n",
    "print(whereCanIPark(\n",
    "  [\n",
    "    ['s', 's', 's', 's', 's', 's'],\n",
    "    ['s', 'm', 's', 'S', 'r', 's'],\n",
    "    ['s', 'm', 's', 'S', 'r', 's'],\n",
    "    ['S', 'r', 's', 'm', 'r', 's'],\n",
    "    ['S', 'r', 's', 'm', 'R', 's'],\n",
    "    ['S', 'r', 'S', 'M', 'm', 'S']\n",
    "  ],\n",
    "  'motorcycle'\n",
    "))"
   ]
  },
  {
   "cell_type": "code",
   "execution_count": 31,
   "id": "2b55d049-ae11-48a7-a1a5-e328ec72e97d",
   "metadata": {},
   "outputs": [
    {
     "name": "stdout",
     "output_type": "stream",
     "text": [
      "Polluted\n",
      "Polluted\n",
      "Clean\n"
     ]
    }
   ],
   "source": [
    "from collections import Counter\n",
    "\n",
    "def checkAir(samples, threshold):\n",
    "    samples_count = Counter(samples)\n",
    "    if samples_count['dirty'] / len(samples) > threshold:\n",
    "        return 'Polluted'\n",
    "    else:\n",
    "        return 'Clean'\n",
    "    \n",
    "print(checkAir(\n",
    "  ['clean', 'clean', 'dirty', 'clean', 'dirty', 'clean', 'clean', 'dirty', 'clean', 'dirty'],\n",
    "  0.3\n",
    "))\n",
    "\n",
    "print(checkAir(\n",
    "  ['dirty', 'dirty', 'dirty', 'dirty', 'clean'],\n",
    "  0.25\n",
    "))\n",
    "\n",
    "print(checkAir(\n",
    "  ['clean', 'dirty', 'clean', 'dirty', 'clean', 'dirty', 'clean'],\n",
    "  0.9\n",
    "))\n"
   ]
  },
  {
   "cell_type": "code",
   "execution_count": null,
   "id": "38abcbc4-3b37-4fa1-b85d-66263f69d494",
   "metadata": {},
   "outputs": [],
   "source": []
  },
  {
   "cell_type": "code",
   "execution_count": null,
   "id": "81395df4-9efc-4762-8a86-884ba3f9524b",
   "metadata": {},
   "outputs": [],
   "source": []
  }
 ],
 "metadata": {
  "kernelspec": {
   "display_name": "Python 3 (ipykernel)",
   "language": "python",
   "name": "python3"
  },
  "language_info": {
   "codemirror_mode": {
    "name": "ipython",
    "version": 3
   },
   "file_extension": ".py",
   "mimetype": "text/x-python",
   "name": "python",
   "nbconvert_exporter": "python",
   "pygments_lexer": "ipython3",
   "version": "3.9.7"
  }
 },
 "nbformat": 4,
 "nbformat_minor": 5
}
