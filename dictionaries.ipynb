{
 "cells": [
  {
   "cell_type": "code",
   "execution_count": 7,
   "id": "d5b1fd95-c701-459f-8d63-e3fef4f972f0",
   "metadata": {},
   "outputs": [
    {
     "data": {
      "text/plain": [
       "[1, 2, 3, 4, 5, 6, 7, 8]"
      ]
     },
     "execution_count": 7,
     "metadata": {},
     "output_type": "execute_result"
    }
   ],
   "source": [
    "a = [1, 2, 7, 8]\n",
    "a[2:2] = [3, 4, 5, 6]\n",
    "a"
   ]
  },
  {
   "cell_type": "code",
   "execution_count": 9,
   "id": "8eb3b2f6-7610-446b-8917-f7fa0b4f782c",
   "metadata": {},
   "outputs": [],
   "source": [
    "t = ('foo',)"
   ]
  },
  {
   "cell_type": "code",
   "execution_count": 10,
   "id": "d22b82e2-9505-44ad-b19b-1a6a9621bcf3",
   "metadata": {},
   "outputs": [
    {
     "name": "stdout",
     "output_type": "stream",
     "text": [
      "{'Colorado': 'Rockies', 'Boston': 'Red Sox', 'Minnesota': 'Twins', 'Milwaukee': 'Brewers', 'Seattle': 'Mariners'}\n"
     ]
    }
   ],
   "source": [
    "MLB_team = {\n",
    "    'Colorado' : 'Rockies',\n",
    "    'Boston'   : 'Red Sox',\n",
    "    'Minnesota': 'Twins',\n",
    "    'Milwaukee': 'Brewers',\n",
    "    'Seattle'  : 'Mariners'\n",
    "}\n",
    "print(MLB_team)"
   ]
  },
  {
   "cell_type": "code",
   "execution_count": 12,
   "id": "7329525a-3152-404a-8365-e9d94af8cd7a",
   "metadata": {},
   "outputs": [
    {
     "name": "stdout",
     "output_type": "stream",
     "text": [
      "{'Colorado': 'Rockies', 'Boston': 'Red Sox', 'Minnesota': 'Twins', 'Milwaukee': 'Brewers', 'Seattle': 'Mariners'}\n"
     ]
    }
   ],
   "source": [
    "MLB_Team = dict([\n",
    "    ('Colorado', 'Rockies'),\n",
    "    ('Boston', 'Red Sox'),\n",
    "    ('Minnesota', 'Twins'),\n",
    "    ('Milwaukee', 'Brewers'),\n",
    "    ('Seattle', 'Mariners')\n",
    "])\n",
    "print(MLB_Team)"
   ]
  },
  {
   "cell_type": "code",
   "execution_count": 13,
   "id": "36a00e32-d934-4858-9456-84923f62257f",
   "metadata": {},
   "outputs": [
    {
     "name": "stdout",
     "output_type": "stream",
     "text": [
      "{'Colarado': 'Rockies', 'Boston': 'Red Seox', 'Minnesota': 'Twins', 'Milwaukee': 'Brewers', 'Seattle': 'Mariners'}\n"
     ]
    }
   ],
   "source": [
    "MLB_team = dict(\n",
    "    Colarado='Rockies',\n",
    "    Boston='Red Seox',\n",
    "    Minnesota='Twins',\n",
    "    Milwaukee='Brewers',\n",
    "    Seattle='Mariners'\n",
    ")\n",
    "print(MLB_team)"
   ]
  },
  {
   "cell_type": "code",
   "execution_count": 14,
   "id": "aa53bcb1-b3fe-48c7-ad75-114b1442cf08",
   "metadata": {},
   "outputs": [
    {
     "data": {
      "text/plain": [
       "'Mariners'"
      ]
     },
     "execution_count": 14,
     "metadata": {},
     "output_type": "execute_result"
    }
   ],
   "source": [
    "MLB_team['Seattle']"
   ]
  },
  {
   "cell_type": "code",
   "execution_count": 17,
   "id": "82932e4b-a489-4b34-99c2-3b12dad11d27",
   "metadata": {},
   "outputs": [
    {
     "data": {
      "text/plain": [
       "'Royals'"
      ]
     },
     "execution_count": 17,
     "metadata": {},
     "output_type": "execute_result"
    }
   ],
   "source": [
    "MLB_team['Kansas City'] = 'Royals'\n",
    "MLB_team['Kansas City']"
   ]
  },
  {
   "cell_type": "code",
   "execution_count": 18,
   "id": "c75df76b-aa9f-4bda-819e-0ad4c3ea61fe",
   "metadata": {},
   "outputs": [
    {
     "data": {
      "text/plain": [
       "{'Colarado': 'Rockies',\n",
       " 'Boston': 'Red Seox',\n",
       " 'Minnesota': 'Twins',\n",
       " 'Milwaukee': 'Brewers',\n",
       " 'Kansas City': 'Royals'}"
      ]
     },
     "execution_count": 18,
     "metadata": {},
     "output_type": "execute_result"
    }
   ],
   "source": [
    "del MLB_team['Seattle']\n",
    "MLB_team"
   ]
  },
  {
   "cell_type": "code",
   "execution_count": 19,
   "id": "df975c55-8c72-48a1-b129-3bd1ade3b872",
   "metadata": {},
   "outputs": [
    {
     "data": {
      "text/plain": [
       "{0: 'a', 1: 'b', 2: 'c', 3: 'd'}"
      ]
     },
     "execution_count": 19,
     "metadata": {},
     "output_type": "execute_result"
    }
   ],
   "source": [
    "d = {0: 'a', 1: 'b', 2: 'c', 3: 'd'}\n",
    "d"
   ]
  },
  {
   "cell_type": "code",
   "execution_count": 20,
   "id": "307c747b-f408-43df-ba54-622523597f87",
   "metadata": {},
   "outputs": [
    {
     "data": {
      "text/plain": [
       "'d'"
      ]
     },
     "execution_count": 20,
     "metadata": {},
     "output_type": "execute_result"
    }
   ],
   "source": [
    "d[3]"
   ]
  },
  {
   "cell_type": "code",
   "execution_count": 21,
   "id": "454dab01-433b-47ce-b3f1-a77f25677513",
   "metadata": {},
   "outputs": [
    {
     "name": "stdout",
     "output_type": "stream",
     "text": [
      "{'fname': 'Nicolas', 'age': 29}\n"
     ]
    }
   ],
   "source": [
    "nicolas = {}\n",
    "\n",
    "nicolas['fname'] = 'Nicolas'\n",
    "nicolas['age'] = 29\n",
    "print(nicolas)\n"
   ]
  },
  {
   "cell_type": "code",
   "execution_count": 25,
   "id": "97a2aecf-b732-48af-b8e1-31392ad9c056",
   "metadata": {},
   "outputs": [
    {
     "data": {
      "text/plain": [
       "30"
      ]
     },
     "execution_count": 25,
     "metadata": {},
     "output_type": "execute_result"
    }
   ],
   "source": [
    "d = {'a': 10, 'b': 20, 'c': 30}\n",
    "d.get('c')"
   ]
  },
  {
   "cell_type": "code",
   "execution_count": 27,
   "id": "36154b19-068b-44d5-8f8e-0252ff5139a7",
   "metadata": {},
   "outputs": [
    {
     "data": {
      "text/plain": [
       "dict_items([('a', 10), ('b', 20), ('c', 30)])"
      ]
     },
     "execution_count": 27,
     "metadata": {},
     "output_type": "execute_result"
    }
   ],
   "source": [
    "d.items()"
   ]
  },
  {
   "cell_type": "code",
   "execution_count": 29,
   "id": "0026ae75-3240-4ae4-a476-ce8dbbd37aee",
   "metadata": {},
   "outputs": [
    {
     "data": {
      "text/plain": [
       "[('a', 10), ('b', 20), ('c', 30)]"
      ]
     },
     "execution_count": 29,
     "metadata": {},
     "output_type": "execute_result"
    }
   ],
   "source": [
    "# d.items turns a dictionnary into a list of tuples\n",
    "list(d.items())"
   ]
  },
  {
   "cell_type": "code",
   "execution_count": 31,
   "id": "d2e9900b-fa5c-4eb8-aa8c-713f7aa24a7d",
   "metadata": {},
   "outputs": [
    {
     "data": {
      "text/plain": [
       "['a', 'b', 'c']"
      ]
     },
     "execution_count": 31,
     "metadata": {},
     "output_type": "execute_result"
    }
   ],
   "source": [
    "#d.keys returns all the keys in a dictionnar\n",
    "list(d.keys())"
   ]
  },
  {
   "cell_type": "code",
   "execution_count": 33,
   "id": "bc49b43a-8458-444c-9f88-965dd78bfe1a",
   "metadata": {},
   "outputs": [
    {
     "data": {
      "text/plain": [
       "[10, 20, 30]"
      ]
     },
     "execution_count": 33,
     "metadata": {},
     "output_type": "execute_result"
    }
   ],
   "source": [
    "list(d.values())"
   ]
  },
  {
   "cell_type": "code",
   "execution_count": 34,
   "id": "f1f40452-7ee6-4f79-9f42-6e44be6872a2",
   "metadata": {},
   "outputs": [
    {
     "data": {
      "text/plain": [
       "20"
      ]
     },
     "execution_count": 34,
     "metadata": {},
     "output_type": "execute_result"
    }
   ],
   "source": [
    "d.pop('b')"
   ]
  },
  {
   "cell_type": "code",
   "execution_count": 35,
   "id": "e372c259-b966-4f03-b61f-c4239e07435f",
   "metadata": {},
   "outputs": [
    {
     "data": {
      "text/plain": [
       "{'a': 10, 'c': 30}"
      ]
     },
     "execution_count": 35,
     "metadata": {},
     "output_type": "execute_result"
    }
   ],
   "source": [
    "d"
   ]
  },
  {
   "cell_type": "code",
   "execution_count": 36,
   "id": "fef38657-581e-416d-b07c-0bf6af378319",
   "metadata": {},
   "outputs": [
    {
     "data": {
      "text/plain": [
       "('c', 30)"
      ]
     },
     "execution_count": 36,
     "metadata": {},
     "output_type": "execute_result"
    }
   ],
   "source": [
    "d.popitem()"
   ]
  },
  {
   "cell_type": "code",
   "execution_count": 37,
   "id": "e549388b-b190-4247-9342-4df095b46a22",
   "metadata": {},
   "outputs": [
    {
     "data": {
      "text/plain": [
       "{'a': 10}"
      ]
     },
     "execution_count": 37,
     "metadata": {},
     "output_type": "execute_result"
    }
   ],
   "source": [
    "d"
   ]
  },
  {
   "cell_type": "code",
   "execution_count": 38,
   "id": "8a890003-d3bf-46b1-8d7f-37c7d53f0c7c",
   "metadata": {},
   "outputs": [
    {
     "data": {
      "text/plain": [
       "{'a': 10, 'b': 200, 'c': 30, 'd': 400}"
      ]
     },
     "execution_count": 38,
     "metadata": {},
     "output_type": "execute_result"
    }
   ],
   "source": [
    "d1 = {'a': 10, 'b': 20, 'c': 30}\n",
    "d2 = {'b': 200, 'd': 400}\n",
    "\n",
    "d1.update(d2)\n",
    "d1"
   ]
  },
  {
   "cell_type": "code",
   "execution_count": 41,
   "id": "c8dc935b-9f21-414b-92e2-4eb4b6504f1c",
   "metadata": {},
   "outputs": [
    {
     "data": {
      "text/plain": [
       "{'a': 10, 'b': 200, 'c': 30, 'd': 400, 'e': 99, 'f': 101}"
      ]
     },
     "execution_count": 41,
     "metadata": {},
     "output_type": "execute_result"
    }
   ],
   "source": [
    "d1.update([('e', 99), ('f', 101)])\n",
    "d1"
   ]
  },
  {
   "cell_type": "code",
   "execution_count": 42,
   "id": "b96bb662-5857-4bb4-b076-e613776a5edb",
   "metadata": {},
   "outputs": [
    {
     "data": {
      "text/plain": [
       "{'a': 10, 'b': 200, 'c': 30, 'd': 400, 'e': 99, 'f': 101, 'g': 123, 'h': 321}"
      ]
     },
     "execution_count": 42,
     "metadata": {},
     "output_type": "execute_result"
    }
   ],
   "source": [
    "d1.update(g=123, h=321)\n",
    "d1"
   ]
  },
  {
   "cell_type": "code",
   "execution_count": 44,
   "id": "043aa031-e496-4581-b0a4-9532bfc3e60b",
   "metadata": {},
   "outputs": [
    {
     "data": {
      "text/plain": [
       "{'foo': 100, 'bar': 200, 'baz': 300}"
      ]
     },
     "execution_count": 44,
     "metadata": {},
     "output_type": "execute_result"
    }
   ],
   "source": [
    "d = dict([\n",
    "    ('foo', 100),\n",
    "    ('bar', 200),\n",
    "    ('baz', 300)\n",
    "])\n",
    "d"
   ]
  },
  {
   "cell_type": "code",
   "execution_count": 46,
   "id": "60869c66-1062-4cae-9eec-4caed08dc719",
   "metadata": {},
   "outputs": [
    {
     "data": {
      "text/plain": [
       "{'foo': 100, 'bar': 200, 'baz': 300}"
      ]
     },
     "execution_count": 46,
     "metadata": {},
     "output_type": "execute_result"
    }
   ],
   "source": [
    "d = dict(foo=100, bar=200, baz=300)\n",
    "d"
   ]
  },
  {
   "cell_type": "code",
   "execution_count": 47,
   "id": "63dac4aa-6fb6-4ce7-b46e-c01e3d194079",
   "metadata": {},
   "outputs": [
    {
     "data": {
      "text/plain": [
       "{'foo': 100, 'bar': 200, 'baz': 300}"
      ]
     },
     "execution_count": 47,
     "metadata": {},
     "output_type": "execute_result"
    }
   ],
   "source": [
    "d = {}\n",
    "d['foo'] = 100\n",
    "d['bar'] = 200\n",
    "d['baz'] = 300\n",
    "d"
   ]
  },
  {
   "cell_type": "code",
   "execution_count": 48,
   "id": "18d1ed46-c54a-4666-b78f-e31f1260a170",
   "metadata": {},
   "outputs": [
    {
     "data": {
      "text/plain": [
       "{('bar', 200), ('baz', 300), ('foo', 100)}"
      ]
     },
     "execution_count": 48,
     "metadata": {},
     "output_type": "execute_result"
    }
   ],
   "source": [
    "d = {\n",
    "    ('foo', 100),\n",
    "    ('bar', 200),\n",
    "    ('baz', 300)\n",
    "}\n",
    "d"
   ]
  },
  {
   "cell_type": "code",
   "execution_count": null,
   "id": "29cf9dc4-39f3-47ee-85af-e69ac7aa22ae",
   "metadata": {},
   "outputs": [],
   "source": []
  }
 ],
 "metadata": {
  "kernelspec": {
   "display_name": "Python 3 (ipykernel)",
   "language": "python",
   "name": "python3"
  },
  "language_info": {
   "codemirror_mode": {
    "name": "ipython",
    "version": 3
   },
   "file_extension": ".py",
   "mimetype": "text/x-python",
   "name": "python",
   "nbconvert_exporter": "python",
   "pygments_lexer": "ipython3",
   "version": "3.9.7"
  }
 },
 "nbformat": 4,
 "nbformat_minor": 5
}
