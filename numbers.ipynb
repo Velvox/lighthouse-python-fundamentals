{
 "cells": [
  {
   "cell_type": "code",
   "execution_count": 1,
   "id": "4b5727b8-0f1d-4327-b676-eb78d80460be",
   "metadata": {},
   "outputs": [
    {
     "ename": "TypeError",
     "evalue": "object of type 'int' has no len()",
     "output_type": "error",
     "traceback": [
      "\u001b[0;31m---------------------------------------------------------------------------\u001b[0m",
      "\u001b[0;31mTypeError\u001b[0m                                 Traceback (most recent call last)",
      "\u001b[0;32m/var/folders/q4/hl7yv5yn6g10s9npc_7kk08h0000gn/T/ipykernel_922/2526422190.py\u001b[0m in \u001b[0;36m<module>\u001b[0;34m\u001b[0m\n\u001b[0;32m----> 1\u001b[0;31m \u001b[0mprint\u001b[0m\u001b[0;34m(\u001b[0m\u001b[0mlen\u001b[0m\u001b[0;34m(\u001b[0m\u001b[0;36m2\u001b[0m\u001b[0;34m)\u001b[0m\u001b[0;34m)\u001b[0m\u001b[0;34m\u001b[0m\u001b[0;34m\u001b[0m\u001b[0m\n\u001b[0m",
      "\u001b[0;31mTypeError\u001b[0m: object of type 'int' has no len()"
     ]
    }
   ],
   "source": [
    "print(len(2))"
   ]
  },
  {
   "cell_type": "code",
   "execution_count": 2,
   "id": "a100c256-cf2c-4a0b-b939-a198083deade",
   "metadata": {},
   "outputs": [
    {
     "data": {
      "text/plain": [
       "40.0"
      ]
     },
     "execution_count": 2,
     "metadata": {},
     "output_type": "execute_result"
    }
   ],
   "source": [
    "float(40)"
   ]
  },
  {
   "cell_type": "code",
   "execution_count": 3,
   "id": "af66c01d-2004-4375-b977-e1c3550cc50c",
   "metadata": {},
   "outputs": [
    {
     "data": {
      "text/plain": [
       "4124531"
      ]
     },
     "execution_count": 3,
     "metadata": {},
     "output_type": "execute_result"
    }
   ],
   "source": [
    "int(4124531.134135)"
   ]
  },
  {
   "cell_type": "code",
   "execution_count": 12,
   "id": "a34f7184-93ad-4f0a-b46e-1c47c0bf1700",
   "metadata": {},
   "outputs": [
    {
     "name": "stdout",
     "output_type": "stream",
     "text": [
      "7\n"
     ]
    }
   ],
   "source": [
    "x = x + 1\n",
    "print(x)"
   ]
  },
  {
   "cell_type": "code",
   "execution_count": 14,
   "id": "0e28ac30-5114-4626-b4dd-67aef191d288",
   "metadata": {},
   "outputs": [],
   "source": [
    "x += 1"
   ]
  },
  {
   "cell_type": "code",
   "execution_count": 18,
   "id": "346ed2d1-ad0c-4ee7-bba5-4fad789c0659",
   "metadata": {},
   "outputs": [
    {
     "name": "stdin",
     "output_type": "stream",
     "text": [
      " 15\n"
     ]
    },
    {
     "name": "stdout",
     "output_type": "stream",
     "text": [
      "10\n"
     ]
    }
   ],
   "source": [
    "anyNum = int(input())\n",
    "anyNum -= 5\n",
    "print(anyNum)"
   ]
  },
  {
   "cell_type": "code",
   "execution_count": 24,
   "id": "442e66de-f513-4717-a27e-8e4458e9c2be",
   "metadata": {},
   "outputs": [
    {
     "data": {
      "text/plain": [
       "15"
      ]
     },
     "execution_count": 24,
     "metadata": {},
     "output_type": "execute_result"
    }
   ],
   "source": [
    "tripleUp = 5\n",
    "tripleUp *= 3\n",
    "tripleUp"
   ]
  },
  {
   "cell_type": "code",
   "execution_count": 25,
   "id": "4850c5df-921d-42eb-b1fb-cd9ab141b56e",
   "metadata": {},
   "outputs": [
    {
     "data": {
      "text/plain": [
       "25.0"
      ]
     },
     "execution_count": 25,
     "metadata": {},
     "output_type": "execute_result"
    }
   ],
   "source": [
    "quarterValue = 100\n",
    "quarterValue /= 4\n",
    "quarterValue"
   ]
  },
  {
   "cell_type": "code",
   "execution_count": 2,
   "id": "27cfcc99-3821-42ff-88fc-fdf6896f9b7e",
   "metadata": {},
   "outputs": [
    {
     "name": "stdin",
     "output_type": "stream",
     "text": [
      " 20\n",
      " 4\n",
      " 9\n"
     ]
    },
    {
     "data": {
      "text/plain": [
       "33"
      ]
     },
     "execution_count": 2,
     "metadata": {},
     "output_type": "execute_result"
    }
   ],
   "source": [
    "sum = 0\n",
    "\n",
    "num = int(input())\n",
    "sum += num\n",
    "\n",
    "num = int(input())\n",
    "sum += num\n",
    "\n",
    "num = int(input())\n",
    "sum += num\n",
    "\n",
    "sum"
   ]
  },
  {
   "cell_type": "code",
   "execution_count": 3,
   "id": "e7a93432-993c-4fa6-bc5d-0c1f20d44587",
   "metadata": {},
   "outputs": [
    {
     "data": {
      "text/plain": [
       "6"
      ]
     },
     "execution_count": 3,
     "metadata": {},
     "output_type": "execute_result"
    }
   ],
   "source": [
    "a = 4\n",
    "b = 2\n",
    "c = a + b\n",
    "c"
   ]
  },
  {
   "cell_type": "code",
   "execution_count": 4,
   "id": "392f8512-129a-4371-82b2-2d66e5ae3dfc",
   "metadata": {},
   "outputs": [
    {
     "name": "stdout",
     "output_type": "stream",
     "text": [
      "3.0\n"
     ]
    }
   ],
   "source": [
    "print(c/2)"
   ]
  },
  {
   "cell_type": "code",
   "execution_count": null,
   "id": "1b825f67-f79a-4862-839e-6715081deb27",
   "metadata": {},
   "outputs": [],
   "source": []
  }
 ],
 "metadata": {
  "kernelspec": {
   "display_name": "Python 3 (ipykernel)",
   "language": "python",
   "name": "python3"
  },
  "language_info": {
   "codemirror_mode": {
    "name": "ipython",
    "version": 3
   },
   "file_extension": ".py",
   "mimetype": "text/x-python",
   "name": "python",
   "nbconvert_exporter": "python",
   "pygments_lexer": "ipython3",
   "version": "3.9.7"
  }
 },
 "nbformat": 4,
 "nbformat_minor": 5
}
