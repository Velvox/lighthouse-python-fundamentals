{
 "cells": [
  {
   "cell_type": "code",
   "execution_count": 1,
   "id": "8b61e281-b8bc-4857-889e-02be3b8a75b0",
   "metadata": {},
   "outputs": [
    {
     "data": {
      "text/plain": [
       "[1, 2, 3, 4, 5]"
      ]
     },
     "execution_count": 1,
     "metadata": {},
     "output_type": "execute_result"
    }
   ],
   "source": [
    "list = [1,2,3,4,5]\n",
    "list"
   ]
  },
  {
   "cell_type": "code",
   "execution_count": 3,
   "id": "8cb76c98-2f44-4efe-8e56-743360cfd0ed",
   "metadata": {},
   "outputs": [
    {
     "data": {
      "text/plain": [
       "['apples', 6, 'tomatoes', 10]"
      ]
     },
     "execution_count": 3,
     "metadata": {},
     "output_type": "execute_result"
    }
   ],
   "source": [
    "list = ['apples', 6, 'tomatoes', 10]\n",
    "list"
   ]
  },
  {
   "cell_type": "code",
   "execution_count": 15,
   "id": "e495ea3a-5199-4a3c-bf7c-8f11ab6d3e97",
   "metadata": {},
   "outputs": [
    {
     "name": "stdout",
     "output_type": "stream",
     "text": [
      "['corge', 'quux', 'qux', 'baz', 'bar', 'foo']\n"
     ]
    }
   ],
   "source": [
    "a = ['foo', 'bar', 'baz', 'qux', 'quux', 'corge']\n",
    "print(a[::-1])"
   ]
  },
  {
   "cell_type": "code",
   "execution_count": 18,
   "id": "5fedd33d-7c70-43b5-9e69-9f87713b9e5f",
   "metadata": {},
   "outputs": [
    {
     "data": {
      "text/plain": [
       "False"
      ]
     },
     "execution_count": 18,
     "metadata": {},
     "output_type": "execute_result"
    }
   ],
   "source": [
    "#this returns a reference to a DIFFERENT object (it copies the list)\n",
    "a[:] is a"
   ]
  },
  {
   "cell_type": "code",
   "execution_count": 21,
   "id": "eeb23c00-844d-4e8e-b6be-b59302ace7a4",
   "metadata": {},
   "outputs": [
    {
     "data": {
      "text/plain": [
       "True"
      ]
     },
     "execution_count": 21,
     "metadata": {},
     "output_type": "execute_result"
    }
   ],
   "source": [
    "# s[:] returns the SAME reference to the same object\n",
    "s = 'foobar'\n",
    "s[:] is s"
   ]
  },
  {
   "cell_type": "code",
   "execution_count": 22,
   "id": "1482d225-fd33-4212-870c-3a5b32d44423",
   "metadata": {},
   "outputs": [
    {
     "name": "stdout",
     "output_type": "stream",
     "text": [
      "6\n",
      "bar\n",
      "qux\n"
     ]
    }
   ],
   "source": [
    "print(len(a))\n",
    "print(min(a))\n",
    "print(max(a))\n"
   ]
  },
  {
   "cell_type": "code",
   "execution_count": 24,
   "id": "29f8912a-9520-40ed-8db1-ed8ba84cf657",
   "metadata": {},
   "outputs": [
    {
     "name": "stdout",
     "output_type": "stream",
     "text": [
      "g\n"
     ]
    }
   ],
   "source": [
    "x = ['a', ['bb', ['ccc', 'ddd'], 'ee', 'ff'], 'g', ['hh', 'ii'], 'j']\n",
    "print(x[2])"
   ]
  },
  {
   "cell_type": "code",
   "execution_count": 25,
   "id": "cc38bd9a-782e-4d11-8738-bb45625363b2",
   "metadata": {},
   "outputs": [
    {
     "name": "stdout",
     "output_type": "stream",
     "text": [
      "['bb', ['ccc', 'ddd'], 'ee', 'ff']\n"
     ]
    }
   ],
   "source": [
    "print(x[1])"
   ]
  },
  {
   "cell_type": "code",
   "execution_count": 26,
   "id": "225e8e48-9eaf-4e74-a5b0-1dfc4eab2cb3",
   "metadata": {},
   "outputs": [
    {
     "name": "stdout",
     "output_type": "stream",
     "text": [
      "['ccc', 'ddd']\n"
     ]
    }
   ],
   "source": [
    "print(x[1][1])"
   ]
  },
  {
   "cell_type": "code",
   "execution_count": 27,
   "id": "30c56440-edcc-4992-9f4e-6363f2c1962c",
   "metadata": {},
   "outputs": [
    {
     "name": "stdout",
     "output_type": "stream",
     "text": [
      "ccc\n"
     ]
    }
   ],
   "source": [
    "print(x[1][1][0])"
   ]
  },
  {
   "cell_type": "code",
   "execution_count": 28,
   "id": "d17d6631-9010-4b37-871d-1a65a4ca8b06",
   "metadata": {},
   "outputs": [
    {
     "name": "stdout",
     "output_type": "stream",
     "text": [
      "['ddd', 'ccc']\n"
     ]
    }
   ],
   "source": [
    "print(x[1][1][::-1])"
   ]
  },
  {
   "cell_type": "code",
   "execution_count": 31,
   "id": "f515c53d-8121-4bf3-ba0c-78a689967c6a",
   "metadata": {},
   "outputs": [
    {
     "name": "stdout",
     "output_type": "stream",
     "text": [
      "['ff', 'ee', ['ccc', 'ddd'], 'bb']\n"
     ]
    }
   ],
   "source": [
    "print(x[1][::-1])"
   ]
  },
  {
   "cell_type": "code",
   "execution_count": 33,
   "id": "5b0b6ef7-d6a4-4065-ae85-acdfb4a3b8cc",
   "metadata": {},
   "outputs": [
    {
     "name": "stdout",
     "output_type": "stream",
     "text": [
      "ee\n"
     ]
    }
   ],
   "source": [
    "print(x[1][::-1][1])"
   ]
  },
  {
   "cell_type": "code",
   "execution_count": 34,
   "id": "5fdb2269-9fdb-466f-98e2-4868695be7d7",
   "metadata": {},
   "outputs": [
    {
     "data": {
      "text/plain": [
       "5"
      ]
     },
     "execution_count": 34,
     "metadata": {},
     "output_type": "execute_result"
    }
   ],
   "source": [
    "len(x)"
   ]
  },
  {
   "cell_type": "code",
   "execution_count": 38,
   "id": "924c5703-d48f-46bb-9ff4-a1704fb3d512",
   "metadata": {},
   "outputs": [
    {
     "name": "stdout",
     "output_type": "stream",
     "text": [
      "[0, 1, 2, 3, 'qux', 'quux', 'corge']\n"
     ]
    }
   ],
   "source": [
    "#a[m:n] = <iterable>\n",
    "a = ['foo', 'bar', 'baz', 'qux', 'quux', 'corge']\n",
    "a[0:3]\n",
    "a[0:3] = [0,1,2,3]\n",
    "print(a)"
   ]
  },
  {
   "cell_type": "code",
   "execution_count": 47,
   "id": "04b3b763-cfc2-4174-81fa-a32b6d4aa7de",
   "metadata": {},
   "outputs": [
    {
     "data": {
      "text/plain": [
       "[0, 'Boo!', 'Boo!', 'Boo!']"
      ]
     },
     "execution_count": 47,
     "metadata": {},
     "output_type": "execute_result"
    }
   ],
   "source": [
    "a[5:5] = ['Boo!']\n",
    "a"
   ]
  },
  {
   "cell_type": "code",
   "execution_count": 58,
   "id": "61391682-1424-4e14-8462-809ecbea7f66",
   "metadata": {},
   "outputs": [
    {
     "name": "stdout",
     "output_type": "stream",
     "text": [
      "5\n"
     ]
    }
   ],
   "source": [
    "a = [1,2,3,4,5]\n",
    "a\n",
    "print(len(a))"
   ]
  },
  {
   "cell_type": "code",
   "execution_count": 59,
   "id": "c530af6a-dc3b-45da-9860-d424387609fb",
   "metadata": {},
   "outputs": [
    {
     "name": "stdout",
     "output_type": "stream",
     "text": [
      "['z', 'x', 'y', 2, 3, 4, 5]\n",
      "7\n"
     ]
    }
   ],
   "source": [
    "a[0:1] = ['z','x','y']\n",
    "print(a)\n",
    "print(len(a))"
   ]
  },
  {
   "cell_type": "code",
   "execution_count": 61,
   "id": "eb8e3882-0e7c-480d-b8ce-a4d584e58995",
   "metadata": {},
   "outputs": [
    {
     "data": {
      "text/plain": [
       "[1, 2, 3, 4, 5, 6, 7, 8]"
      ]
     },
     "execution_count": 61,
     "metadata": {},
     "output_type": "execute_result"
    }
   ],
   "source": [
    "a = [1,2,7,8]\n",
    "a[2:2] = [3,4,5,6]\n",
    "a"
   ]
  },
  {
   "cell_type": "code",
   "execution_count": 66,
   "id": "6c3a69a5-257d-4c62-a033-067c39316551",
   "metadata": {},
   "outputs": [
    {
     "data": {
      "text/plain": [
       "[1, 2, 3]"
      ]
     },
     "execution_count": 66,
     "metadata": {},
     "output_type": "execute_result"
    }
   ],
   "source": [
    "a[-3:] = []\n",
    "a"
   ]
  },
  {
   "cell_type": "code",
   "execution_count": 67,
   "id": "e99c38b8-163a-43f5-9bad-d89106e38c5f",
   "metadata": {},
   "outputs": [
    {
     "data": {
      "text/plain": [
       "[1, 2, 3, 4, 5, 6, 7, 8]"
      ]
     },
     "execution_count": 67,
     "metadata": {},
     "output_type": "execute_result"
    }
   ],
   "source": [
    "a += [4,5,6,7,8]\n",
    "a"
   ]
  },
  {
   "cell_type": "code",
   "execution_count": 68,
   "id": "a546fd55-d654-44a7-ba3e-713d1ac28cb1",
   "metadata": {},
   "outputs": [
    {
     "data": {
      "text/plain": [
       "['qwe', 'rty', 1, 2, 3, 4, 5, 6, 7, 8]"
      ]
     },
     "execution_count": 68,
     "metadata": {},
     "output_type": "execute_result"
    }
   ],
   "source": [
    "a = ['qwe','rty'] + a\n",
    "a"
   ]
  },
  {
   "cell_type": "code",
   "execution_count": 69,
   "id": "b2b083b0-0fd7-45ca-a4ce-330edf9293eb",
   "metadata": {},
   "outputs": [
    {
     "data": {
      "text/plain": [
       "['qwe', 'rty', 1, 2, 3, 4, 5, 6, 7, 8, 'zxc', 'vbn']"
      ]
     },
     "execution_count": 69,
     "metadata": {},
     "output_type": "execute_result"
    }
   ],
   "source": [
    "a = a + ['zxc','vbn']\n",
    "a"
   ]
  },
  {
   "cell_type": "code",
   "execution_count": 71,
   "id": "ae74d975-a108-4af9-a460-2a3b876b5b91",
   "metadata": {},
   "outputs": [
    {
     "data": {
      "text/plain": [
       "['qwe', 'rty', 1, 2, 3, 4, 5, 6, 7, 8, 'zxc', 'vbn', 'end']"
      ]
     },
     "execution_count": 71,
     "metadata": {},
     "output_type": "execute_result"
    }
   ],
   "source": [
    "a += ['end']\n",
    "a"
   ]
  },
  {
   "cell_type": "code",
   "execution_count": 72,
   "id": "d6de282a-3c0e-4278-a6c9-aa36ef1bdb83",
   "metadata": {},
   "outputs": [
    {
     "data": {
      "text/plain": [
       "['qwe', 'rty', 1, 2, 3, 4, 5, 6, 7, 8, 'zxc', 'vbn', 'end', 'christine']"
      ]
     },
     "execution_count": 72,
     "metadata": {},
     "output_type": "execute_result"
    }
   ],
   "source": [
    "a.append('christine')\n",
    "a"
   ]
  },
  {
   "cell_type": "code",
   "execution_count": 75,
   "id": "5df6e34f-b202-4f47-8845-cf14d98f558e",
   "metadata": {},
   "outputs": [
    {
     "name": "stdout",
     "output_type": "stream",
     "text": [
      "None\n",
      "['a', 'b', 123]\n"
     ]
    }
   ],
   "source": [
    "# list methods target the list in place, they do not make a new list\n",
    "a = ['a','b']\n",
    "x = a.append(123)\n",
    "print(x)\n",
    "print(a)"
   ]
  },
  {
   "cell_type": "code",
   "execution_count": 76,
   "id": "70f0052b-1e62-4ca9-b380-5684c3e64451",
   "metadata": {},
   "outputs": [
    {
     "data": {
      "text/plain": [
       "['a', 'b', 123, 1, 2, 3]"
      ]
     },
     "execution_count": 76,
     "metadata": {},
     "output_type": "execute_result"
    }
   ],
   "source": [
    "a + [1,2,3]"
   ]
  },
  {
   "cell_type": "code",
   "execution_count": 78,
   "id": "16487335-9557-4270-ab6c-03bda2c161ee",
   "metadata": {},
   "outputs": [
    {
     "data": {
      "text/plain": [
       "['a', 'b', 123, [1, 2, 3], [1, 2, 3]]"
      ]
     },
     "execution_count": 78,
     "metadata": {},
     "output_type": "execute_result"
    }
   ],
   "source": [
    "a.append([1,2,3])\n",
    "a"
   ]
  },
  {
   "cell_type": "code",
   "execution_count": 79,
   "id": "0def08c3-ba32-4e58-a3d9-90d621923f39",
   "metadata": {},
   "outputs": [
    {
     "data": {
      "text/plain": [
       "['a', 'b', 123, [1, 2, 3], [1, 2, 3], 'foo']"
      ]
     },
     "execution_count": 79,
     "metadata": {},
     "output_type": "execute_result"
    }
   ],
   "source": [
    "a.append('foo')\n",
    "a"
   ]
  },
  {
   "cell_type": "code",
   "execution_count": 80,
   "id": "bf42c6d1-0103-408a-9bbb-81477424f25f",
   "metadata": {},
   "outputs": [
    {
     "data": {
      "text/plain": [
       "['a', 'b', 1, 2, 3]"
      ]
     },
     "execution_count": 80,
     "metadata": {},
     "output_type": "execute_result"
    }
   ],
   "source": [
    "a = ['a','b']\n",
    "a.extend([1,2,3])\n",
    "a"
   ]
  },
  {
   "cell_type": "code",
   "execution_count": 82,
   "id": "f5117d5f-0139-4007-870c-d8593adcfd40",
   "metadata": {},
   "outputs": [
    {
     "name": "stdout",
     "output_type": "stream",
     "text": [
      "inserted\n",
      "['foo', 'bar', 'baz', 'inserted', 'qux', 'quux', 'corge']\n"
     ]
    }
   ],
   "source": [
    "a = ['foo', 'bar', 'baz', 'qux', 'quux', 'corge']\n",
    "a.insert(3,'inserted')\n",
    "print(a[3])\n",
    "print(a)\n"
   ]
  },
  {
   "cell_type": "code",
   "execution_count": 83,
   "id": "bdc5266f-d3c7-45b3-9152-41cf3f2c29fe",
   "metadata": {},
   "outputs": [
    {
     "name": "stdout",
     "output_type": "stream",
     "text": [
      "['foo', 'bar', 'baz', 'qux', 'quux', 'corge']\n"
     ]
    }
   ],
   "source": [
    "a.remove('inserted')\n",
    "print(a)"
   ]
  },
  {
   "cell_type": "code",
   "execution_count": 84,
   "id": "fb7bca72-48cb-4a09-a1b5-75eb0a3f3c94",
   "metadata": {},
   "outputs": [
    {
     "ename": "ValueError",
     "evalue": "list.remove(x): x not in list",
     "output_type": "error",
     "traceback": [
      "\u001b[0;31m---------------------------------------------------------------------------\u001b[0m",
      "\u001b[0;31mValueError\u001b[0m                                Traceback (most recent call last)",
      "\u001b[0;32m/var/folders/q4/hl7yv5yn6g10s9npc_7kk08h0000gn/T/ipykernel_1704/829198094.py\u001b[0m in \u001b[0;36m<module>\u001b[0;34m\u001b[0m\n\u001b[0;32m----> 1\u001b[0;31m \u001b[0ma\u001b[0m\u001b[0;34m.\u001b[0m\u001b[0mremove\u001b[0m\u001b[0;34m(\u001b[0m\u001b[0;34m'inserted'\u001b[0m\u001b[0;34m)\u001b[0m\u001b[0;34m\u001b[0m\u001b[0;34m\u001b[0m\u001b[0m\n\u001b[0m",
      "\u001b[0;31mValueError\u001b[0m: list.remove(x): x not in list"
     ]
    }
   ],
   "source": [
    "a.remove('inserted')"
   ]
  },
  {
   "cell_type": "code",
   "execution_count": 87,
   "id": "533491d5-5986-4792-be06-3200c66b3aa6",
   "metadata": {},
   "outputs": [
    {
     "name": "stdout",
     "output_type": "stream",
     "text": [
      "qux\n"
     ]
    },
    {
     "data": {
      "text/plain": [
       "['foo', 'bar', 'baz']"
      ]
     },
     "execution_count": 87,
     "metadata": {},
     "output_type": "execute_result"
    }
   ],
   "source": [
    "print(a.pop())\n",
    "a"
   ]
  },
  {
   "cell_type": "code",
   "execution_count": 88,
   "id": "96c5d007-983d-4173-b531-bb7445d1cde3",
   "metadata": {},
   "outputs": [
    {
     "data": {
      "text/plain": [
       "'bar'"
      ]
     },
     "execution_count": 88,
     "metadata": {},
     "output_type": "execute_result"
    }
   ],
   "source": [
    "a.pop(1)"
   ]
  },
  {
   "cell_type": "code",
   "execution_count": 89,
   "id": "d480f19f-c371-4592-80ce-067668eab895",
   "metadata": {},
   "outputs": [
    {
     "data": {
      "text/plain": [
       "['foo', 'baz']"
      ]
     },
     "execution_count": 89,
     "metadata": {},
     "output_type": "execute_result"
    }
   ],
   "source": [
    "a"
   ]
  },
  {
   "cell_type": "code",
   "execution_count": 90,
   "id": "60cc6974-86e1-4321-bd76-5fd94a0b709d",
   "metadata": {},
   "outputs": [
    {
     "data": {
      "text/plain": [
       "('christine', 'chrishelle', 'maya', 'marie')"
      ]
     },
     "execution_count": 90,
     "metadata": {},
     "output_type": "execute_result"
    }
   ],
   "source": [
    "t = ('christine', 'chrishelle', 'maya', 'marie')\n",
    "t"
   ]
  },
  {
   "cell_type": "code",
   "execution_count": 93,
   "id": "558657ca-4985-456c-8f7c-bb1a6d355b3b",
   "metadata": {},
   "outputs": [
    {
     "data": {
      "text/plain": [
       "'christine'"
      ]
     },
     "execution_count": 93,
     "metadata": {},
     "output_type": "execute_result"
    }
   ],
   "source": [
    "t[0]"
   ]
  },
  {
   "cell_type": "code",
   "execution_count": 94,
   "id": "30506b14-f2a2-433d-9d9d-b79ee098302c",
   "metadata": {},
   "outputs": [
    {
     "data": {
      "text/plain": [
       "('marie', 'maya', 'chrishelle', 'christine')"
      ]
     },
     "execution_count": 94,
     "metadata": {},
     "output_type": "execute_result"
    }
   ],
   "source": [
    "t[::-1]"
   ]
  },
  {
   "cell_type": "code",
   "execution_count": 95,
   "id": "6d5b12e3-d99e-48d0-90d1-2b503cd5de8c",
   "metadata": {},
   "outputs": [
    {
     "data": {
      "text/plain": [
       "('foo', 'christine', 42)"
      ]
     },
     "execution_count": 95,
     "metadata": {},
     "output_type": "execute_result"
    }
   ],
   "source": [
    "a = 'foo'\n",
    "b = 42\n",
    "a , 'christine', b"
   ]
  },
  {
   "cell_type": "code",
   "execution_count": 96,
   "id": "f2de4544-99de-447e-a478-91ba54434c23",
   "metadata": {},
   "outputs": [
    {
     "data": {
      "text/plain": [
       "tuple"
      ]
     },
     "execution_count": 96,
     "metadata": {},
     "output_type": "execute_result"
    }
   ],
   "source": [
    "t = ()\n",
    "type(t)"
   ]
  },
  {
   "cell_type": "code",
   "execution_count": 105,
   "id": "f0c254f6-682e-49be-93c8-409afd8fa018",
   "metadata": {},
   "outputs": [
    {
     "ename": "TypeError",
     "evalue": "'int' object is not subscriptable",
     "output_type": "error",
     "traceback": [
      "\u001b[0;31m---------------------------------------------------------------------------\u001b[0m",
      "\u001b[0;31mTypeError\u001b[0m                                 Traceback (most recent call last)",
      "\u001b[0;32m/var/folders/q4/hl7yv5yn6g10s9npc_7kk08h0000gn/T/ipykernel_1704/705873177.py\u001b[0m in \u001b[0;36m<module>\u001b[0;34m\u001b[0m\n\u001b[1;32m      1\u001b[0m \u001b[0mt\u001b[0m \u001b[0;34m=\u001b[0m \u001b[0;34m(\u001b[0m\u001b[0;36m2\u001b[0m\u001b[0;34m)\u001b[0m\u001b[0;34m\u001b[0m\u001b[0;34m\u001b[0m\u001b[0m\n\u001b[0;32m----> 2\u001b[0;31m \u001b[0mt\u001b[0m\u001b[0;34m[\u001b[0m\u001b[0;36m0\u001b[0m\u001b[0;34m]\u001b[0m\u001b[0;34m\u001b[0m\u001b[0;34m\u001b[0m\u001b[0m\n\u001b[0m",
      "\u001b[0;31mTypeError\u001b[0m: 'int' object is not subscriptable"
     ]
    }
   ],
   "source": [
    "t = (2)\n",
    "t[0]"
   ]
  },
  {
   "cell_type": "code",
   "execution_count": 106,
   "id": "42a77fe6-3e45-46f1-a032-de73062a3147",
   "metadata": {},
   "outputs": [
    {
     "data": {
      "text/plain": [
       "2"
      ]
     },
     "execution_count": 106,
     "metadata": {},
     "output_type": "execute_result"
    }
   ],
   "source": [
    "t = (2,)\n",
    "t[0]"
   ]
  },
  {
   "cell_type": "code",
   "execution_count": 107,
   "id": "617bed49-b4ba-4be6-9fbf-c7eb3d16d28a",
   "metadata": {},
   "outputs": [
    {
     "data": {
      "text/plain": [
       "('maya', 'christine', 'vanessa', 'amanza', 'emma')"
      ]
     },
     "execution_count": 107,
     "metadata": {},
     "output_type": "execute_result"
    }
   ],
   "source": [
    "t = ('maya', 'christine', 'vanessa', 'amanza', 'emma')\n",
    "t"
   ]
  },
  {
   "cell_type": "code",
   "execution_count": 109,
   "id": "aca1dafe-be0e-45b9-827e-b8947a211d07",
   "metadata": {},
   "outputs": [
    {
     "data": {
      "text/plain": [
       "('maya', 'christine', 'vanessa', 'amanza', 'emma')"
      ]
     },
     "execution_count": 109,
     "metadata": {},
     "output_type": "execute_result"
    }
   ],
   "source": [
    "#this is unpacking a tuple\n",
    "(s1, s2, s3, s4, s5) = t\n",
    "t"
   ]
  },
  {
   "cell_type": "code",
   "execution_count": 110,
   "id": "57df34b4-0b84-4550-b060-69ebceb8d4be",
   "metadata": {},
   "outputs": [
    {
     "data": {
      "text/plain": [
       "'christine'"
      ]
     },
     "execution_count": 110,
     "metadata": {},
     "output_type": "execute_result"
    }
   ],
   "source": [
    "s2"
   ]
  },
  {
   "cell_type": "code",
   "execution_count": 111,
   "id": "366ea173-7353-46c0-abc7-287e17eb26da",
   "metadata": {},
   "outputs": [
    {
     "data": {
      "text/plain": [
       "'maya'"
      ]
     },
     "execution_count": 111,
     "metadata": {},
     "output_type": "execute_result"
    }
   ],
   "source": [
    "s1"
   ]
  },
  {
   "cell_type": "code",
   "execution_count": 112,
   "id": "a0fc058b-efce-46ba-b7d1-4b2fcd3a4bbf",
   "metadata": {},
   "outputs": [
    {
     "data": {
      "text/plain": [
       "'vanessa'"
      ]
     },
     "execution_count": 112,
     "metadata": {},
     "output_type": "execute_result"
    }
   ],
   "source": [
    "s3"
   ]
  },
  {
   "cell_type": "code",
   "execution_count": 113,
   "id": "7fbc4d06-a103-45be-a985-6d1d838cacb4",
   "metadata": {},
   "outputs": [
    {
     "ename": "ValueError",
     "evalue": "too many values to unpack (expected 3)",
     "output_type": "error",
     "traceback": [
      "\u001b[0;31m---------------------------------------------------------------------------\u001b[0m",
      "\u001b[0;31mValueError\u001b[0m                                Traceback (most recent call last)",
      "\u001b[0;32m/var/folders/q4/hl7yv5yn6g10s9npc_7kk08h0000gn/T/ipykernel_1704/3171517934.py\u001b[0m in \u001b[0;36m<module>\u001b[0;34m\u001b[0m\n\u001b[0;32m----> 1\u001b[0;31m \u001b[0;34m(\u001b[0m\u001b[0ms1\u001b[0m\u001b[0;34m,\u001b[0m \u001b[0ms2\u001b[0m\u001b[0;34m,\u001b[0m \u001b[0ms3\u001b[0m\u001b[0;34m)\u001b[0m \u001b[0;34m=\u001b[0m \u001b[0mt\u001b[0m\u001b[0;34m\u001b[0m\u001b[0;34m\u001b[0m\u001b[0m\n\u001b[0m",
      "\u001b[0;31mValueError\u001b[0m: too many values to unpack (expected 3)"
     ]
    }
   ],
   "source": [
    "(s1, s2, s3) = t"
   ]
  },
  {
   "cell_type": "code",
   "execution_count": 114,
   "id": "7fb91e11-1b92-4106-ba2f-1a9dcaf5b1ce",
   "metadata": {},
   "outputs": [],
   "source": [
    "(q1, w2, e3, r4) = ('emma', 'christine', 'maya', 'vanessa')"
   ]
  },
  {
   "cell_type": "code",
   "execution_count": 115,
   "id": "d75f848d-0079-4164-857c-804aad003bb4",
   "metadata": {},
   "outputs": [
    {
     "data": {
      "text/plain": [
       "'christine'"
      ]
     },
     "execution_count": 115,
     "metadata": {},
     "output_type": "execute_result"
    }
   ],
   "source": [
    "s2"
   ]
  },
  {
   "cell_type": "code",
   "execution_count": 116,
   "id": "71af9493-a256-4848-967f-72a0984fdadb",
   "metadata": {},
   "outputs": [
    {
     "ename": "ValueError",
     "evalue": "too many values to unpack (expected 3)",
     "output_type": "error",
     "traceback": [
      "\u001b[0;31m---------------------------------------------------------------------------\u001b[0m",
      "\u001b[0;31mValueError\u001b[0m                                Traceback (most recent call last)",
      "\u001b[0;32m/var/folders/q4/hl7yv5yn6g10s9npc_7kk08h0000gn/T/ipykernel_1704/947475164.py\u001b[0m in \u001b[0;36m<module>\u001b[0;34m\u001b[0m\n\u001b[0;32m----> 1\u001b[0;31m \u001b[0;34m(\u001b[0m\u001b[0mq1\u001b[0m\u001b[0;34m,\u001b[0m \u001b[0mw2\u001b[0m\u001b[0;34m,\u001b[0m \u001b[0me3\u001b[0m\u001b[0;34m)\u001b[0m \u001b[0;34m=\u001b[0m \u001b[0;34m(\u001b[0m\u001b[0;34m'emma'\u001b[0m\u001b[0;34m,\u001b[0m \u001b[0;34m'christine'\u001b[0m\u001b[0;34m,\u001b[0m \u001b[0;34m'maya'\u001b[0m\u001b[0;34m,\u001b[0m \u001b[0;34m'vanessa'\u001b[0m\u001b[0;34m)\u001b[0m\u001b[0;34m\u001b[0m\u001b[0;34m\u001b[0m\u001b[0m\n\u001b[0m",
      "\u001b[0;31mValueError\u001b[0m: too many values to unpack (expected 3)"
     ]
    }
   ],
   "source": [
    "(q1, w2, e3) = ('emma', 'christine', 'maya', 'vanessa')"
   ]
  },
  {
   "cell_type": "code",
   "execution_count": 117,
   "id": "53199621-2e77-472a-bd7e-13a88170215c",
   "metadata": {},
   "outputs": [
    {
     "data": {
      "text/plain": [
       "(1, 2, 3)"
      ]
     },
     "execution_count": 117,
     "metadata": {},
     "output_type": "execute_result"
    }
   ],
   "source": [
    "t = 1, 2, 3\n",
    "t"
   ]
  },
  {
   "cell_type": "code",
   "execution_count": 118,
   "id": "2fb5cae2-dd0e-4849-a7ae-936394421a15",
   "metadata": {},
   "outputs": [
    {
     "data": {
      "text/plain": [
       "(1, 2, 3)"
      ]
     },
     "execution_count": 118,
     "metadata": {},
     "output_type": "execute_result"
    }
   ],
   "source": [
    "x1, x2, x3 = t\n",
    "x1, x2, x3"
   ]
  },
  {
   "cell_type": "code",
   "execution_count": 130,
   "id": "145f314c-75ae-414b-b07e-b35fbb576633",
   "metadata": {},
   "outputs": [
    {
     "data": {
      "text/plain": [
       "('emma', 'maya')"
      ]
     },
     "execution_count": 130,
     "metadata": {},
     "output_type": "execute_result"
    }
   ],
   "source": [
    "a = 'emma'\n",
    "b = 'maya'\n",
    "a, b"
   ]
  },
  {
   "cell_type": "code",
   "execution_count": 132,
   "id": "d5e60d38-aea3-4d4d-bd3b-ef9285fb2fcc",
   "metadata": {},
   "outputs": [
    {
     "data": {
      "text/plain": [
       "('maya', 'emma')"
      ]
     },
     "execution_count": 132,
     "metadata": {},
     "output_type": "execute_result"
    }
   ],
   "source": [
    "temp = a\n",
    "a = b\n",
    "b = temp\n",
    "a, b"
   ]
  },
  {
   "cell_type": "code",
   "execution_count": 138,
   "id": "ba65bfe4-325b-4bbd-b215-dfe7dbe497d6",
   "metadata": {},
   "outputs": [
    {
     "data": {
      "text/plain": [
       "('emma', 'maya')"
      ]
     },
     "execution_count": 138,
     "metadata": {},
     "output_type": "execute_result"
    }
   ],
   "source": [
    "a, b = b, a\n",
    "a, b"
   ]
  },
  {
   "cell_type": "code",
   "execution_count": null,
   "id": "1d7caa5d-fc11-4bd4-9722-6f3799a7656c",
   "metadata": {},
   "outputs": [],
   "source": []
  }
 ],
 "metadata": {
  "kernelspec": {
   "display_name": "Python 3 (ipykernel)",
   "language": "python",
   "name": "python3"
  },
  "language_info": {
   "codemirror_mode": {
    "name": "ipython",
    "version": 3
   },
   "file_extension": ".py",
   "mimetype": "text/x-python",
   "name": "python",
   "nbconvert_exporter": "python",
   "pygments_lexer": "ipython3",
   "version": "3.9.7"
  }
 },
 "nbformat": 4,
 "nbformat_minor": 5
}
