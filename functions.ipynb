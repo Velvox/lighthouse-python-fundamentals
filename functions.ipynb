{
 "cells": [
  {
   "cell_type": "code",
   "execution_count": 12,
   "id": "75b7b1f5",
   "metadata": {},
   "outputs": [
    {
     "name": "stdout",
     "output_type": "stream",
     "text": [
      "Hello Function.\n"
     ]
    }
   ],
   "source": [
    "#Keep things dry - don't repeat\n",
    "def hello():\n",
    "    print('Hello Function.')\n",
    "\n",
    "#hello()"
   ]
  },
  {
   "cell_type": "code",
   "execution_count": 28,
   "id": "30e0d3fa",
   "metadata": {},
   "outputs": [
    {
     "name": "stdout",
     "output_type": "stream",
     "text": [
      "HELLO FUNCTION.\n"
     ]
    }
   ],
   "source": [
    "#Keep things dry - don't repeat\n",
    "def hello():\n",
    "    return 'Hello Function.'\n",
    "\n",
    "print(hello().upper())"
   ]
  },
  {
   "cell_type": "code",
   "execution_count": 29,
   "id": "84c7b259",
   "metadata": {},
   "outputs": [
    {
     "name": "stdout",
     "output_type": "stream",
     "text": [
      "Hi Function.\n"
     ]
    }
   ],
   "source": [
    "#Keep things dry - don't repeat\n",
    "def hello(greeting):\n",
    "    return '{} Function.'.format(greeting)\n",
    "\n",
    "print(hello('Hi'))"
   ]
  },
  {
   "cell_type": "code",
   "execution_count": 33,
   "id": "263d9246",
   "metadata": {},
   "outputs": [
    {
     "name": "stdout",
     "output_type": "stream",
     "text": [
      "Hi, Nic\n"
     ]
    }
   ],
   "source": [
    "#Keep things dry - don't repeat\n",
    "def hello(greeting, name = 'You'):\n",
    "    return '{}, {}'.format(greeting, name)\n",
    "\n",
    "print(hello('Hi', 'Nic'))"
   ]
  },
  {
   "cell_type": "code",
   "execution_count": 39,
   "id": "e2b288ad",
   "metadata": {},
   "outputs": [
    {
     "name": "stdout",
     "output_type": "stream",
     "text": [
      "('Math', 'Art')\n",
      "{'name': 'Nic', 'age': '29'}\n"
     ]
    }
   ],
   "source": [
    "def student_info(*args, **kwargs):\n",
    "    \"\"\"This is an example\"\"\"\n",
    "    print(args)\n",
    "    print(kwargs)\n",
    "    \n",
    "courses = ['Math', 'Art']\n",
    "info = {'name': 'Nic', 'age': '29'}\n",
    "    \n",
    "student_info(*courses, **info)\n",
    "\n",
    "# stars are needed to properly unpack positional arguments, as in the example above"
   ]
  },
  {
   "cell_type": "code",
   "execution_count": null,
   "id": "c7994c41",
   "metadata": {},
   "outputs": [],
   "source": []
  }
 ],
 "metadata": {
  "kernelspec": {
   "display_name": "Python 3 (ipykernel)",
   "language": "python",
   "name": "python3"
  },
  "language_info": {
   "codemirror_mode": {
    "name": "ipython",
    "version": 3
   },
   "file_extension": ".py",
   "mimetype": "text/x-python",
   "name": "python",
   "nbconvert_exporter": "python",
   "pygments_lexer": "ipython3",
   "version": "3.9.7"
  }
 },
 "nbformat": 4,
 "nbformat_minor": 5
}
